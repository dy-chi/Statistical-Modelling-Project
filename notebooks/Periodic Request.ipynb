{
 "cells": [
  {
   "cell_type": "code",
   "execution_count": null,
   "id": "03b39ca3",
   "metadata": {},
   "outputs": [],
   "source": [
    "import time\n",
    "import requests\n",
    "\n",
    "def make_api_request():\n",
    "    url = \"api_url = 'http://api.citybik.es/v2/networks/bay-wheels\"  # Replace with the actual API URL\n",
    "    response = requests.get(url)\n",
    "    if response.status_code == 200:\n",
    "        data = response.json()\n",
    "        return data\n",
    "    else:\n",
    "        print(f\"Error: {response.status_code} - {response.text}\")\n",
    "        return None\n",
    "\n",
    "def main():\n",
    "    interval_seconds = 3600  # Set the interval between requests in seconds\n",
    "\n",
    "    while True:\n",
    "        data = make_api_request()\n",
    "\n",
    "        if data is not None:\n",
    "            # Process the API response\n",
    "            print(\"Received data:\", data)\n",
    "\n",
    "        time.sleep(interval_seconds)  # Wait before making the next request\n",
    "\n",
    "if __name__ == \"__main__\":\n",
    "    main()"
   ]
  },
  {
   "cell_type": "code",
   "execution_count": null,
   "id": "c484fbad",
   "metadata": {},
   "outputs": [],
   "source": [
    "import time\n",
    "import requests\n",
    "import json\n",
    "\n",
    "def make_api_request():\n",
    "    url = \"api_url = 'http://api.citybik.es/v2/networks/bay-wheels\"  # Replace with the actual API URL\n",
    "    response = requests.get(url)\n",
    "    if response.status_code == 200:\n",
    "        data = response.json()\n",
    "        return data\n",
    "    else:\n",
    "        print(f\"Error: {response.status_code} - {response.text}\")\n",
    "        return None\n",
    "\n",
    "def save_data_to_file(data, filename):\n",
    "    with open(filename, \"w\") as file:\n",
    "        json.dump(data, file)\n",
    "\n",
    "def main():\n",
    "    interval_seconds = 3600  # Set the interval between requests in seconds\n",
    "\n",
    "    while True:\n",
    "        data = make_api_request()\n",
    "\n",
    "        if data is not None:\n",
    "            # Process the API response\n",
    "            print(\"Received data:\", data)\n",
    "\n",
    "            # Save data to a file\n",
    "            filename = f\"san_fran_stations_data_{time.time()}.json\"  # Use a timestamp in the filename\n",
    "            save_data_to_file(data, filename)\n",
    "\n",
    "        time.sleep(interval_seconds)  # Wait before making the next request\n",
    "\n",
    "if __name__ == \"__main__\":\n",
    "    main()"
   ]
  }
 ],
 "metadata": {
  "kernelspec": {
   "display_name": "lhl_base_env",
   "language": "python",
   "name": "lhl_base_env"
  },
  "language_info": {
   "codemirror_mode": {
    "name": "ipython",
    "version": 3
   },
   "file_extension": ".py",
   "mimetype": "text/x-python",
   "name": "python",
   "nbconvert_exporter": "python",
   "pygments_lexer": "ipython3",
   "version": "3.9.17"
  }
 },
 "nbformat": 4,
 "nbformat_minor": 5
}
